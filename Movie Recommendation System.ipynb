{
 "cells": [
  {
   "cell_type": "code",
   "execution_count": 31,
   "id": "fd20ac3e",
   "metadata": {},
   "outputs": [],
   "source": [
    "import numpy as np\n",
    "import pandas as pd\n",
    "import difflib\n",
    "from sklearn.feature_extraction.text import TfidfVectorizer\n",
    "from sklearn.metrics.pairwise import cosine_similarity"
   ]
  },
  {
   "cell_type": "code",
   "execution_count": 32,
   "id": "467feea3",
   "metadata": {},
   "outputs": [],
   "source": [
    "movies_data = pd.read_csv('movies.csv')"
   ]
  },
  {
   "cell_type": "code",
   "execution_count": 50,
   "id": "0d8e2a04",
   "metadata": {},
   "outputs": [],
   "source": [
    "selected_features = ['genres','keywords','tagline','cast','director']\n",
    "\n",
    "for feature in selected_features:\n",
    "  movies_data[feature] = movies_data[feature].fillna('')\n",
    "\n",
    "combined_features = movies_data['genres']+' '+movies_data['keywords']+' '+movies_data['tagline']+' '+movies_data['cast']+' '+movies_data['director']"
   ]
  },
  {
   "cell_type": "code",
   "execution_count": 51,
   "id": "22f64e91",
   "metadata": {},
   "outputs": [],
   "source": [
    "vectorizer = TfidfVectorizer()\n",
    "feature_vectors = vectorizer.fit_transform(combined_features)\n",
    "similarity = cosine_similarity(feature_vectors)\n",
    "list_of_all_titles = movies_data['title'].tolist()"
   ]
  },
  {
   "cell_type": "code",
   "execution_count": 52,
   "id": "36015491",
   "metadata": {},
   "outputs": [],
   "source": [
    "def get_movies(movie_name):\n",
    "    index_of_the_movie = movies_data[movies_data.title == movie_name]['index'].values[0]\n",
    "    similarity_score = list(enumerate(similarity[index_of_the_movie]))\n",
    "    sorted_similar_movies = sorted(similarity_score, key = lambda x:x[1], reverse = True) \n",
    "    print('Movies suggested for you : \\n')\n",
    "            \n",
    "    for i in range(1,30):\n",
    "        index = sorted_similar_movies[i][0]\n",
    "        title_from_index = movies_data[movies_data.index==index]['title'].values[0]\n",
    "        print(i, '.',title_from_index)"
   ]
  },
  {
   "cell_type": "code",
   "execution_count": 54,
   "id": "c02a94ea",
   "metadata": {},
   "outputs": [
    {
     "name": "stdout",
     "output_type": "stream",
     "text": [
      " Enter your favourite movie name : stree\n",
      "Movies suggested for you : \n",
      "\n",
      "1 . Cloud Atlas\n",
      "2 . Resident Evil: Apocalypse\n",
      "3 . Perfume: The Story of a Murderer\n",
      "4 . The International\n",
      "5 . The Helix... Loaded\n",
      "6 . Alex & Emma\n",
      "7 . Anomalisa\n",
      "8 . Bridge of Spies\n",
      "9 . Velvet Goldmine\n",
      "10 . Just Looking\n",
      "11 . The Christmas Bunny\n",
      "12 . The Bad News Bears\n",
      "13 . Captain America: The Winter Soldier\n",
      "14 . Run Lola Run\n",
      "15 . The Apparition\n",
      "16 . 50 First Dates\n",
      "17 . Tomorrowland\n",
      "18 . Captain America: Civil War\n",
      "19 . Plastic\n",
      "20 . All Superheroes Must Die\n",
      "21 . Rachel Getting Married\n",
      "22 . Captain America: The First Avenger\n",
      "23 . After Earth\n",
      "24 . Æon Flux\n",
      "25 . The Howling\n",
      "26 . My Blueberry Nights\n",
      "27 . Animal House\n",
      "28 . The BFG\n",
      "29 . Rodeo Girl\n"
     ]
    }
   ],
   "source": [
    "movie_name = input(' Enter your favourite movie name : ')\n",
    "\n",
    "find_close_match = difflib.get_close_matches(movie_name, list_of_all_titles)\n",
    "\n",
    "if(len(find_close_match) == 0):\n",
    "    print(\"movie not found\")\n",
    "\n",
    "else:\n",
    "    get_movies(find_close_match[0])"
   ]
  },
  {
   "cell_type": "code",
   "execution_count": null,
   "id": "63bde353",
   "metadata": {},
   "outputs": [],
   "source": []
  }
 ],
 "metadata": {
  "kernelspec": {
   "display_name": "Python 3 (ipykernel)",
   "language": "python",
   "name": "python3"
  },
  "language_info": {
   "codemirror_mode": {
    "name": "ipython",
    "version": 3
   },
   "file_extension": ".py",
   "mimetype": "text/x-python",
   "name": "python",
   "nbconvert_exporter": "python",
   "pygments_lexer": "ipython3",
   "version": "3.9.13"
  }
 },
 "nbformat": 4,
 "nbformat_minor": 5
}
